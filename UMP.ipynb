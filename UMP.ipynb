{
  "cells": [
    {
      "cell_type": "markdown",
      "metadata": {
        "id": "view-in-github",
        "colab_type": "text"
      },
      "source": [
        "<a href=\"https://colab.research.google.com/github/Arif-X/RNN-LSTM-UMP-JATIM/blob/master/UMP.ipynb\" target=\"_parent\"><img src=\"https://colab.research.google.com/assets/colab-badge.svg\" alt=\"Open In Colab\"/></a>"
      ]
    },
    {
      "cell_type": "code",
      "execution_count": 221,
      "metadata": {
        "id": "YOQSmQKgiAdN"
      },
      "outputs": [],
      "source": [
        "# Importing the libraries\n",
        "import numpy as np\n",
        "import matplotlib.pyplot as plt\n",
        "import pandas as pd\n",
        "plt.style.use('seaborn-whitegrid')\n",
        "import seaborn as sns\n",
        "import tensorflow as tf\n",
        "from sklearn.preprocessing import MinMaxScaler\n",
        "from keras.models import Sequential\n",
        "from keras.layers import Dense, LSTM, Dropout, GRU, Bidirectional\n",
        "import math\n",
        "from keras import metrics\n",
        "from keras.callbacks import EarlyStopping"
      ]
    },
    {
      "cell_type": "code",
      "execution_count": 222,
      "metadata": {
        "id": "E4-TnG3viMJg"
      },
      "outputs": [],
      "source": [
        "import os\n",
        "fileList = os.listdir(\"/content/\")"
      ]
    },
    {
      "cell_type": "code",
      "execution_count": 223,
      "metadata": {
        "colab": {
          "base_uri": "https://localhost:8080/"
        },
        "id": "HUKt_lm9iYgu",
        "outputId": "f42cc791-86d3-4f44-a7bd-a9e0d6ef3b4c"
      },
      "outputs": [
        {
          "output_type": "stream",
          "name": "stdout",
          "text": [
            "['.config', 'UMP.csv', '.ipynb', 'Surabaya.csv', 'Kota Surabaya.csv', 'sample']\n"
          ]
        }
      ],
      "source": [
        "kotaKabList = []\n",
        "for file in fileList:\n",
        "    kotaKabName = file.split(\"_\")[0]\n",
        "    if kotaKabName != \"all\":\n",
        "        kotaKabList.append(kotaKabName)\n",
        "print(kotaKabList)"
      ]
    },
    {
      "cell_type": "code",
      "execution_count": 224,
      "metadata": {
        "id": "vhWzOFApidOA"
      },
      "outputs": [],
      "source": [
        "# umkList = [\"Kab. Gresik\", \"Kab. Sidoarjo\", \"Kota Surabaya\"]\n",
        "umkList = [\"UMP\"]\n",
        "df_ = {}\n",
        "for i in umkList:\n",
        "    df_[i] = pd.read_csv(\"/content/\" + i + \".csv\", index_col=\"Tahun\", parse_dates=[\"Tahun\"])"
      ]
    },
    {
      "cell_type": "code",
      "execution_count": 235,
      "metadata": {
        "id": "1ALlTNmcjOK2"
      },
      "outputs": [],
      "source": [
        "def split(dataframe, border, col):\n",
        "    return dataframe.loc[:border,col], dataframe.loc[border:,col]\n",
        "\n",
        "df_new = {}\n",
        "for i in umkList:\n",
        "    df_new[i] = {}\n",
        "    df_new[i][\"Train\"], df_new[i][\"Test\"] = split(df_[i], \"2016\", \"Ump\")"
      ]
    },
    {
      "cell_type": "code",
      "execution_count": 236,
      "metadata": {
        "id": "HNircXKgjSE2",
        "colab": {
          "base_uri": "https://localhost:8080/",
          "height": 291
        },
        "outputId": "811472ef-5821-48e0-c855-dfbb4e3d2ee1"
      },
      "outputs": [
        {
          "output_type": "display_data",
          "data": {
            "text/plain": [
              "<Figure size 1008x288 with 1 Axes>"
            ],
            "image/png": "[encoded data removed]"
          },
          "metadata": {}
        }
      ],
      "source": [
        "for i in umkList:\n",
        "    plt.figure(figsize=(14,4))\n",
        "    plt.plot(df_new[i][\"Train\"])\n",
        "    plt.plot(df_new[i][\"Test\"])\n",
        "    plt.ylabel(\"UMK\")\n",
        "    plt.xlabel(\"Tahun\")\n",
        "    plt.legend([\"Training Set\", \"Test Set\"])\n",
        "    plt.title(\"UMK \" + i)"
      ]
    },
    {
      "cell_type": "code",
      "execution_count": 237,
      "metadata": {
        "id": "eRHOAFN3jXYp",
        "colab": {
          "base_uri": "https://localhost:8080/"
        },
        "outputId": "b30ad77c-90e4-4e7b-aee9-facd3e5dae34"
      },
      "outputs": [
        {
          "output_type": "stream",
          "name": "stdout",
          "text": [
            "(20, 1)\n",
            "(7, 1)\n"
          ]
        }
      ],
      "source": [
        "# Scaling the training set\n",
        "transform_train = {}\n",
        "transform_test = {}\n",
        "scaler = {}\n",
        "\n",
        "for num, i in enumerate(umkList):\n",
        "    sc = MinMaxScaler(feature_range=(0,1))\n",
        "    a0 = np.array(df_new[i][\"Train\"])\n",
        "    a1 = np.array(df_new[i][\"Test\"])\n",
        "    a0 = a0.reshape(a0.shape[0],1)\n",
        "    a1 = a1.reshape(a1.shape[0],1)\n",
        "    transform_train[i] = sc.fit_transform(a0)\n",
        "    transform_test[i] = sc.fit_transform(a1)\n",
        "    scaler[i] = sc\n",
        "    print(transform_train[i].shape)\n",
        "    print(transform_test[i].shape)\n",
        "\n",
        "del a0\n",
        "del a1"
      ]
    },
    {
      "cell_type": "code",
      "execution_count": 238,
      "metadata": {
        "colab": {
          "base_uri": "https://localhost:8080/"
        },
        "id": "YVBqHUyjjaPc",
        "outputId": "daf906ff-3493-4dcb-85c0-3e091a4e8d26"
      },
      "outputs": [
        {
          "output_type": "stream",
          "name": "stdout",
          "text": [
            "UMP (20, 1)\n",
            "\n",
            "\n",
            "UMP (7, 1)\n"
          ]
        }
      ],
      "source": [
        "for i in transform_train.keys():\n",
        "    print(i, transform_train[i].shape)\n",
        "print(\"\\n\")    \n",
        "for i in transform_test.keys():\n",
        "    print(i, transform_test[i].shape)"
      ]
    },
    {
      "cell_type": "code",
      "execution_count": 239,
      "metadata": {
        "id": "3cjOLhh0jjAv"
      },
      "outputs": [],
      "source": [
        "trainset = {}\n",
        "testset = {}\n",
        "for j in umkList:\n",
        "    trainset[j] = {}\n",
        "    X_train = []\n",
        "    y_train = []\n",
        "    for i in range(1, 20):\n",
        "        X_train.append(transform_train[j][i-1:i,0])\n",
        "        y_train.append(transform_train[j][i,0])\n",
        "    X_train, y_train = np.array(X_train), np.array(y_train)\n",
        "    trainset[j][\"X\"] = np.reshape(X_train, (X_train.shape[0],X_train.shape[1],1))\n",
        "    trainset[j][\"y\"] = y_train\n",
        "\n",
        "    testset[j] = {}\n",
        "    X_test = []\n",
        "    y_test = []    \n",
        "    for i in range(1, 7):\n",
        "        X_test.append(transform_test[j][i-1:i,0])\n",
        "        y_test.append(transform_test[j][i,0])\n",
        "    X_test, y_test = np.array(X_test), np.array(y_test)\n",
        "    testset[j][\"X\"] = np.reshape(X_test, (X_test.shape[0], X_train.shape[1], 1))\n",
        "    testset[j][\"y\"] = y_test"
      ]
    },
    {
      "cell_type": "code",
      "execution_count": 240,
      "metadata": {
        "colab": {
          "base_uri": "https://localhost:8080/",
          "height": 81
        },
        "id": "FZirroJdjmec",
        "outputId": "d90ea29d-03db-449c-a891-1004e562a039"
      },
      "outputs": [
        {
          "output_type": "execute_result",
          "data": {
            "text/plain": [
              "        X_train y_train     X_test y_test\n",
              "UMP  (19, 1, 1)   (19,)  (6, 1, 1)   (6,)"
            ],
            "text/html": [
              "\n",
              "  <div id=\"df-9029c873-2bde-4cee-b076-453f48da4682\">\n",
              "    <div class=\"colab-df-container\">\n",
              "      <div>\n",
              "<style scoped>\n",
              "    .dataframe tbody tr th:only-of-type {\n",
              "        vertical-align: middle;\n",
              "    }\n",
              "\n",
              "    .dataframe tbody tr th {\n",
              "        vertical-align: top;\n",
              "    }\n",
              "\n",
              "    .dataframe thead th {\n",
              "        text-align: right;\n",
              "    }\n",
              "</style>\n",
              "<table border=\"1\" class=\"dataframe\">\n",
              "  <thead>\n",
              "    <tr style=\"text-align: right;\">\n",
              "      <th></th>\n",
              "      <th>X_train</th>\n",
              "      <th>y_train</th>\n",
              "      <th>X_test</th>\n",
              "      <th>y_test</th>\n",
              "    </tr>\n",
              "  </thead>\n",
              "  <tbody>\n",
              "    <tr>\n",
              "      <th>UMP</th>\n",
              "      <td>(19, 1, 1)</td>\n",
              "      <td>(19,)</td>\n",
              "      <td>(6, 1, 1)</td>\n",
              "      <td>(6,)</td>\n",
              "    </tr>\n",
              "  </tbody>\n",
              "</table>\n",
              "</div>\n",
              "      <button class=\"colab-df-convert\" onclick=\"convertToInteractive('df-9029c873-2bde-4cee-b076-453f48da4682')\"\n",
              "              title=\"Convert this dataframe to an interactive table.\"\n",
              "              style=\"display:none;\">\n",
              "        \n",
              "  <svg xmlns=\"http://www.w3.org/2000/svg\" height=\"24px\"viewBox=\"0 0 24 24\"\n",
              "       width=\"24px\">\n",
              "    <path d=\"M0 0h24v24H0V0z\" fill=\"none\"/>\n",
              "    <path d=\"M18.56 5.44l.94 2.06.94-2.06 2.06-.94-2.06-.94-.94-2.06-.94 2.06-2.06.94zm-11 1L8.5 8.5l.94-2.06 2.06-.94-2.06-.94L8.5 2.5l-.94 2.06-2.06.94zm10 10l.94 2.06.94-2.06 2.06-.94-2.06-.94-.94-2.06-.94 2.06-2.06.94z\"/><path d=\"M17.41 7.96l-1.37-1.37c-.4-.4-.92-.59-1.43-.59-.52 0-1.04.2-1.43.59L10.3 9.45l-7.72 7.72c-.78.78-.78 2.05 0 2.83L4 21.41c.39.39.9.59 1.41.59.51 0 1.02-.2 1.41-.59l7.78-7.78 2.81-2.81c.8-.78.8-2.07 0-2.86zM5.41 20L4 18.59l7.72-7.72 1.47 1.35L5.41 20z\"/>\n",
              "  </svg>\n",
              "      </button>\n",
              "      \n",
              "  <style>\n",
              "    .colab-df-container {\n",
              "      display:flex;\n",
              "      flex-wrap:wrap;\n",
              "      gap: 12px;\n",
              "    }\n",
              "\n",
              "    .colab-df-convert {\n",
              "      background-color: #E8F0FE;\n",
              "      border: none;\n",
              "      border-radius: 50%;\n",
              "      cursor: pointer;\n",
              "      display: none;\n",
              "      fill: #1967D2;\n",
              "      height: 32px;\n",
              "      padding: 0 0 0 0;\n",
              "      width: 32px;\n",
              "    }\n",
              "\n",
              "    .colab-df-convert:hover {\n",
              "      background-color: #E2EBFA;\n",
              "      box-shadow: 0px 1px 2px rgba(60, 64, 67, 0.3), 0px 1px 3px 1px rgba(60, 64, 67, 0.15);\n",
              "      fill: #174EA6;\n",
              "    }\n",
              "\n",
              "    [theme=dark] .colab-df-convert {\n",
              "      background-color: #3B4455;\n",
              "      fill: #D2E3FC;\n",
              "    }\n",
              "\n",
              "    [theme=dark] .colab-df-convert:hover {\n",
              "      background-color: #434B5C;\n",
              "      box-shadow: 0px 1px 3px 1px rgba(0, 0, 0, 0.15);\n",
              "      filter: drop-shadow(0px 1px 2px rgba(0, 0, 0, 0.3));\n",
              "      fill: #FFFFFF;\n",
              "    }\n",
              "  </style>\n",
              "\n",
              "      <script>\n",
              "        const buttonEl =\n",
              "          document.querySelector('#df-9029c873-2bde-4cee-b076-453f48da4682 button.colab-df-convert');\n",
              "        buttonEl.style.display =\n",
              "          google.colab.kernel.accessAllowed ? 'block' : 'none';\n",
              "\n",
              "        async function convertToInteractive(key) {\n",
              "          const element = document.querySelector('#df-9029c873-2bde-4cee-b076-453f48da4682');\n",
              "          const dataTable =\n",
              "            await google.colab.kernel.invokeFunction('convertToInteractive',\n",
              "                                                     [key], {});\n",
              "          if (!dataTable) return;\n",
              "\n",
              "          const docLinkHtml = 'Like what you see? Visit the ' +\n",
              "            '<a target=\"_blank\" href=https://colab.research.google.com/notebooks/data_table.ipynb>data table notebook</a>'\n",
              "            + ' to learn more about interactive tables.';\n",
              "          element.innerHTML = '';\n",
              "          dataTable['output_type'] = 'display_data';\n",
              "          await google.colab.output.renderOutput(dataTable, element);\n",
              "          const docLink = document.createElement('div');\n",
              "          docLink.innerHTML = docLinkHtml;\n",
              "          element.appendChild(docLink);\n",
              "        }\n",
              "      </script>\n",
              "    </div>\n",
              "  </div>\n",
              "  "
            ]
          },
          "metadata": {},
          "execution_count": 240
        }
      ],
      "source": [
        "arr_buff = []\n",
        "for i in umkList:\n",
        "    buff = {}\n",
        "    buff[\"X_train\"] = trainset[i][\"X\"].shape\n",
        "    buff[\"y_train\"] = trainset[i][\"y\"].shape\n",
        "    buff[\"X_test\"] = testset[i][\"X\"].shape\n",
        "    buff[\"y_test\"] = testset[i][\"y\"].shape\n",
        "    arr_buff.append(buff)\n",
        "    \n",
        "pd.DataFrame(arr_buff, index=umkList)"
      ]
    },
    {
      "cell_type": "code",
      "execution_count": null,
      "metadata": {
        "id": "BrfLT5CEjtsc"
      },
      "outputs": [],
      "source": [
        "%%time\n",
        "# The LSTM architecture\n",
        "regressor = Sequential()\n",
        "# First LSTM layer with Dropout regularisation\n",
        "regressor.add(LSTM(units=50, return_sequences=True, input_shape=(X_train.shape[1],1)))\n",
        "regressor.add(Dropout(0.2))\n",
        "# Second LSTM layer\n",
        "regressor.add(LSTM(units=50, return_sequences=True))\n",
        "regressor.add(Dropout(0.2))\n",
        "# Third LSTM layer\n",
        "regressor.add(LSTM(units=50, return_sequences=True))\n",
        "regressor.add(Dropout(0.2))\n",
        "# Fourth LSTM layer\n",
        "regressor.add(LSTM(units=50))\n",
        "regressor.add(Dropout(0.2))\n",
        "# The output layer\n",
        "regressor.add(Dense(units=1))\n",
        "\n",
        "# Compiling the RNN\n",
        "regressor.compile(\n",
        "    optimizer='rmsprop',\n",
        "    loss='mse',\n",
        ")\n",
        "\n",
        "# Fitting to the training set\n",
        "for i in umkList:\n",
        "    print(\"Fitting to\", i)\n",
        "    model = regressor.fit(\n",
        "        trainset[i][\"X\"],\n",
        "        trainset[i][\"y\"],\n",
        "        epochs=1000,\n",
        "        batch_size=3\n",
        "    )"
      ]
    },
    {
      "cell_type": "code",
      "execution_count": 242,
      "metadata": {
        "id": "V-urGmqYk7kD",
        "colab": {
          "base_uri": "https://localhost:8080/",
          "height": 400
        },
        "outputId": "1eca3a82-d75b-4ba7-a60f-9e17c536b0a0"
      },
      "outputs": [
        {
          "output_type": "display_data",
          "data": {
            "text/plain": [
              "<Figure size 1008x432 with 1 Axes>"
            ],
            "image/png": "[encoded data removed]"
          },
          "metadata": {}
        }
      ],
      "source": [
        "pred_result = {}\n",
        "\n",
        "for i in umkList:\n",
        "    y_true = scaler[i].inverse_transform(testset[i][\"y\"].reshape(-1,1))\n",
        "    y_pred = scaler[i].inverse_transform(regressor.predict(testset[i][\"X\"]))\n",
        "    pred_result[i] = {}\n",
        "    pred_result[i][\"True\"] = y_true\n",
        "    pred_result[i][\"Pred\"] = y_pred\n",
        "\n",
        "    plt.figure(figsize=(14,6))\n",
        "    mape = tf.keras.losses.MeanAbsolutePercentageError()\n",
        "    plt.title(i + \" MAPE: {:10.4f}\".format(mape(y_true, y_pred).numpy()))\n",
        "    plt.plot(y_pred)\n",
        "    plt.plot(y_true)\n",
        "    plt.legend([\"Prediction\", \"Actual\"])\n",
        "    plt.xlabel(\"Tahun\")\n",
        "    plt.ylabel(\"UMK\")\n",
        "    plt.show()"
      ]
    }
  ],
  "metadata": {
    "colab": {
      "collapsed_sections": [],
      "name": "UMK.ipynb",
      "provenance": [],
      "authorship_tag": "ABX9TyPyNXiIcn4LwTZX16M7Z9t2",
      "include_colab_link": true
    },
    "kernelspec": {
      "display_name": "Python 3",
      "name": "python3"
    },
    "language_info": {
      "name": "python"
    }
  },
  "nbformat": 4,
  "nbformat_minor": 0
}